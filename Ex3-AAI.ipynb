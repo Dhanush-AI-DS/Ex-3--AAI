{
 "cells": [
  {
   "cell_type": "code",
   "execution_count": null,
   "metadata": {},
   "outputs": [],
   "source": [
    "from pgmpy.models import BayesianNetwork\n",
    "from pgmpy.factors.discrete import TabularCPD\n",
    "from pgmpy.sampling import GibbsSampling\n"
   ]
  },
  {
   "cell_type": "code",
   "execution_count": null,
   "metadata": {},
   "outputs": [],
   "source": [
    "# Define the Bayesian network structure\n",
    "network = BayesianNetwork([('Burglary', 'Alarm'),\n",
    "                           ('Earthquake', 'Alarm'),\n",
    "                           ('Alarm', 'JohnCalls'),\n",
    "                           ('Alarm', 'MaryCalls')])\n"
   ]
  },
  {
   "cell_type": "code",
   "execution_count": null,
   "metadata": {},
   "outputs": [],
   "source": [
    "#Define the Conditional Probability Distributions (CPDs)\n",
    "cpd_burglary = TabularCPD(variable='Burglary', variable_card=2, values=[[0.999], [0.001]])\n",
    "cpd_earthquake = TabularCPD(variable='Earthquake', variable_card=2, values=[[0.998], [0.002]])\n",
    "cpd_alarm = TabularCPD(variable='Alarm', variable_card=2,                      values=[[0.999, 0.71, 0.06, 0.05],                               [0.001, 0.29, 0.94, 0.95]],                       evidence=['Burglary', 'Earthquake'], evidence_card=[2, 2])\n",
    "cpd_john_calls = TabularCPD(variable='JohnCalls', variable_card=2,                           values=[[0.95, 0.1], [0.05, 0.9]],                            evidence=['Alarm'], evidence_card=[2])\n",
    "cpd_mary_calls = TabularCPD(variable='MaryCalls', variable_card=2,                          values=[[0.99, 0.3], [0.01, 0.7]],                            evidence=['Alarm'], evidence_card=[2])\n"
   ]
  },
  {
   "cell_type": "code",
   "execution_count": null,
   "metadata": {},
   "outputs": [],
   "source": [
    "# Add CPDs to the network\n"
   ]
  },
  {
   "cell_type": "code",
   "execution_count": null,
   "metadata": {},
   "outputs": [],
   "source": [
    "# Print the Bayesian network structure\n"
   ]
  },
  {
   "cell_type": "code",
   "execution_count": null,
   "metadata": {},
   "outputs": [],
   "source": [
    "# Draw the graph\n"
   ]
  },
  {
   "cell_type": "code",
   "execution_count": null,
   "metadata": {},
   "outputs": [],
   "source": [
    "# Initialize Gibbs Sampling for MCMC\n"
   ]
  },
  {
   "cell_type": "code",
   "execution_count": null,
   "metadata": {},
   "outputs": [],
   "source": [
    "# Set the number of samples\n"
   ]
  },
  {
   "cell_type": "code",
   "execution_count": null,
   "metadata": {},
   "outputs": [],
   "source": [
    "# Perform MCMC sampling\n"
   ]
  },
  {
   "cell_type": "code",
   "execution_count": null,
   "metadata": {},
   "outputs": [],
   "source": [
    "# Calculate approximate probabilities based on the samples"
   ]
  },
  {
   "cell_type": "code",
   "execution_count": null,
   "metadata": {},
   "outputs": [],
   "source": [
    "# Print the approximate probabilities\n"
   ]
  }
 ],
 "metadata": {
  "kernelspec": {
   "display_name": "Python 3",
   "language": "python",
   "name": "python3"
  },
  "language_info": {
   "name": "python",
   "version": "3.10.6"
  }
 },
 "nbformat": 4,
 "nbformat_minor": 2
}
